{
 "cells": [
  {
   "cell_type": "code",
   "execution_count": 1,
   "metadata": {},
   "outputs": [],
   "source": [
    "from sqlalchemy import create_engine\n",
    "import json\n",
    "from sqlalchemy.engine import URL\n",
    "from utils import get_logger, odbc_engine\n",
    "\n",
    "from db_migrate import SampleData, DuplicateSchema\n",
    "from utils import get_logger\n",
    "\n",
    "LOGGER = get_logger(__name__)"
   ]
  },
  {
   "cell_type": "code",
   "execution_count": 2,
   "metadata": {},
   "outputs": [],
   "source": [
    "with open('credentials.json', 'r') as file:\n",
    "    CREDS = json.load(file)"
   ]
  },
  {
   "cell_type": "code",
   "execution_count": 3,
   "metadata": {},
   "outputs": [],
   "source": [
    "URL_ORIGIN = URL.create(**CREDS['origin'])\n",
    "URL_DESTINATION = URL.create(**CREDS['destination'])"
   ]
  },
  {
   "cell_type": "code",
   "execution_count": 4,
   "metadata": {},
   "outputs": [],
   "source": [
    "ORIGIN_ENGINE = create_engine(URL_ORIGIN, connect_args={'sslmode': 'prefer'})\n",
    "DESTINATION_ENGINE = create_engine(URL_DESTINATION, connect_args={'sslmode': 'prefer'})\n",
    "ODBC_ENGINE = odbc_engine(\n",
    "    credentials=CREDS,\n",
    "    odbc_driver='/opt/amazon/redshift/lib/libamazonredshiftodbc.dylib'\n",
    ")"
   ]
  },
  {
   "cell_type": "code",
   "execution_count": 5,
   "metadata": {},
   "outputs": [],
   "source": [
    "DUPLICATE_SCHEMA = DuplicateSchema(ORIGIN_ENGINE, DESTINATION_ENGINE)\n",
    "SAMPLE_DATA = SampleData(ORIGIN_ENGINE, DESTINATION_ENGINE, ODBC_ENGINE)\n"
   ]
  }
 ],
 "metadata": {
  "kernelspec": {
   "display_name": "sql_migrate",
   "language": "python",
   "name": "python3"
  },
  "language_info": {
   "codemirror_mode": {
    "name": "ipython",
    "version": 3
   },
   "file_extension": ".py",
   "mimetype": "text/x-python",
   "name": "python",
   "nbconvert_exporter": "python",
   "pygments_lexer": "ipython3",
   "version": "3.8.16"
  },
  "orig_nbformat": 4,
  "vscode": {
   "interpreter": {
    "hash": "a791ee91161d5bd1f5a776397bcc2f6ad40dacd8727fe8d6194a129d7bb89dd9"
   }
  }
 },
 "nbformat": 4,
 "nbformat_minor": 2
}
